{
 "cells": [
  {
   "attachments": {},
   "cell_type": "markdown",
   "metadata": {},
   "source": [
    "# 練習問題\n",
    "基本的な操作の確認用に練習問題を用意しました。  \n",
    "物足りない方は追加条件の方も加えて行ってみてください。  \n",
    "表示してください、という指示についてはレコードの出力・テーブル作成のどちらでも構いません。  \n",
    "自分でコードは書かずに、生成系AIへの指示の練習としてもいいと思います。"
   ]
  },
  {
   "attachments": {},
   "cell_type": "markdown",
   "metadata": {},
   "source": [
    "## 問題1: 列の選択と条件による抽出\n",
    "sashelp.classデータセットから、年齢が13歳以上の生徒の名前(Name)と年齢(Age)のみを選択して表示してください。"
   ]
  },
  {
   "attachments": {},
   "cell_type": "markdown",
   "metadata": {},
   "source": [
    "## 問題2: 新規テーブルの作成\n",
    "sashelp.classデータセットから、男性の生徒のみを含む新しいテーブルを作成してください。新しいテーブルの名前はmale_studentsとします。"
   ]
  },
  {
   "attachments": {},
   "cell_type": "markdown",
   "metadata": {},
   "source": [
    "## 問題3: 新規列の作成\n",
    "sashelp.classデータセットに身長(インチ)に2.54をかけて身長(cm)を計算する新しい列を追加して、名前(Name)、身長(cm)を表示してください。\n",
    "### 追加条件\n",
    "性別が女性の場合は名前を「---」としてください。"
   ]
  },
  {
   "attachments": {},
   "cell_type": "markdown",
   "metadata": {},
   "source": [
    "## 問題4: データの要約\n",
    "sashelp.classデータセットを使用して、年齢別にレコード数と身長の最小値、最大値、平均値を計算し、レコード数が3以上のもののみを表示してください。\n",
    "### 追加条件\n",
    "WHERE句を使う方法と使わない方法で行ってください。"
   ]
  },
  {
   "attachments": {},
   "cell_type": "markdown",
   "metadata": {},
   "source": [
    "## 問題5: 横方向の結合\n",
    "sashelp.classデータセットに、問題4のデータを年齢をキーにして、sashelp.classに含まれるレコードがすべて含まれるように結合し、すべての列を表示してください。"
   ]
  }
 ],
 "metadata": {
  "language_info": {
   "name": "python"
  },
  "orig_nbformat": 4
 },
 "nbformat": 4,
 "nbformat_minor": 2
}
